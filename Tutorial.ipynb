{
 "cells": [
  {
   "cell_type": "code",
   "execution_count": 20,
   "metadata": {},
   "outputs": [],
   "source": [
    "import os\n",
    "import pandas as pd\n",
    "from dotenv import load_dotenv\n",
    "from utils.coin import CoinGeckoAPI  \n",
    "from utils.manager import BitcoinDatabase  \n",
    "\n",
    "load_dotenv()\n",
    "\n",
    "db_name = os.getenv(\"BTC_DB\")\n",
    "table_btc_price_history = os.getenv(\"BTC_PRICE_TABLE\")\n",
    "table_rolling_price_history = os.getenv(\"ROLLING_PRICE_TABLE\")\n",
    "\n"
   ]
  },
  {
   "cell_type": "markdown",
   "metadata": {},
   "source": [
    "##  Load the data from the db "
   ]
  },
  {
   "cell_type": "code",
   "execution_count": 26,
   "metadata": {},
   "outputs": [],
   "source": [
    "btc_db = BitcoinDatabase(db_name,table_btc_price_history)\n",
    "btc_history_data = btc_db.select_data(table_btc_price_history)\n",
    "\n"
   ]
  },
  {
   "cell_type": "markdown",
   "metadata": {},
   "source": [
    "## Find peak values calculating std\n",
    "\n",
    "If a value is greater or less than two times the standard deviation, it can be considered an anomaly "
   ]
  },
  {
   "cell_type": "code",
   "execution_count": 30,
   "metadata": {},
   "outputs": [],
   "source": [
    "df = btc_history_data.copy()"
   ]
  },
  {
   "cell_type": "code",
   "execution_count": 32,
   "metadata": {},
   "outputs": [
    {
     "data": {
      "text/html": [
       "<div>\n",
       "<style scoped>\n",
       "    .dataframe tbody tr th:only-of-type {\n",
       "        vertical-align: middle;\n",
       "    }\n",
       "\n",
       "    .dataframe tbody tr th {\n",
       "        vertical-align: top;\n",
       "    }\n",
       "\n",
       "    .dataframe thead th {\n",
       "        text-align: right;\n",
       "    }\n",
       "</style>\n",
       "<table border=\"1\" class=\"dataframe\">\n",
       "  <thead>\n",
       "    <tr style=\"text-align: right;\">\n",
       "      <th></th>\n",
       "      <th>date</th>\n",
       "      <th>price</th>\n",
       "    </tr>\n",
       "  </thead>\n",
       "  <tbody>\n",
       "    <tr>\n",
       "      <th>0</th>\n",
       "      <td>01-01-2022 20:00:00</td>\n",
       "      <td>47816.0777</td>\n",
       "    </tr>\n",
       "    <tr>\n",
       "      <th>1</th>\n",
       "      <td>02-01-2022 20:00:00</td>\n",
       "      <td>47387.2122</td>\n",
       "    </tr>\n",
       "    <tr>\n",
       "      <th>2</th>\n",
       "      <td>03-01-2022 20:00:00</td>\n",
       "      <td>46531.1409</td>\n",
       "    </tr>\n",
       "    <tr>\n",
       "      <th>3</th>\n",
       "      <td>04-01-2022 20:00:00</td>\n",
       "      <td>45938.0243</td>\n",
       "    </tr>\n",
       "    <tr>\n",
       "      <th>4</th>\n",
       "      <td>05-01-2022 20:00:00</td>\n",
       "      <td>43647.1475</td>\n",
       "    </tr>\n",
       "  </tbody>\n",
       "</table>\n",
       "</div>"
      ],
      "text/plain": [
       "                  date       price\n",
       "0  01-01-2022 20:00:00  47816.0777\n",
       "1  02-01-2022 20:00:00  47387.2122\n",
       "2  03-01-2022 20:00:00  46531.1409\n",
       "3  04-01-2022 20:00:00  45938.0243\n",
       "4  05-01-2022 20:00:00  43647.1475"
      ]
     },
     "execution_count": 32,
     "metadata": {},
     "output_type": "execute_result"
    }
   ],
   "source": [
    "df.head()"
   ]
  },
  {
   "cell_type": "code",
   "execution_count": 33,
   "metadata": {},
   "outputs": [],
   "source": [
    "desviacion_estandar = df['price'].std()\n",
    "\n",
    "# Encontrar los valores que están por encima o por debajo de 2 desviaciones estándar\n",
    "valores_anomalos = df[(df['price'] > (df['price'].mean() + 2 * desviacion_estandar)) | \n",
    "                      (df['price'] < (df['price'].mean() - 2 * desviacion_estandar))]\n",
    "\n",
    "# Etiquetar los valores anómalos en el DataFrame original\n",
    "df['anomalo'] = False\n",
    "df.loc[valores_anomalos.index, 'anomalo'] = True\n",
    "\n",
    "\n"
   ]
  },
  {
   "cell_type": "markdown",
   "metadata": {},
   "source": [
    "## Anomaly values"
   ]
  },
  {
   "cell_type": "code",
   "execution_count": 35,
   "metadata": {},
   "outputs": [
    {
     "data": {
      "text/html": [
       "<div>\n",
       "<style scoped>\n",
       "    .dataframe tbody tr th:only-of-type {\n",
       "        vertical-align: middle;\n",
       "    }\n",
       "\n",
       "    .dataframe tbody tr th {\n",
       "        vertical-align: top;\n",
       "    }\n",
       "\n",
       "    .dataframe thead th {\n",
       "        text-align: right;\n",
       "    }\n",
       "</style>\n",
       "<table border=\"1\" class=\"dataframe\">\n",
       "  <thead>\n",
       "    <tr style=\"text-align: right;\">\n",
       "      <th></th>\n",
       "      <th>date</th>\n",
       "      <th>price</th>\n",
       "      <th>anomalo</th>\n",
       "    </tr>\n",
       "  </thead>\n",
       "  <tbody>\n",
       "    <tr>\n",
       "      <th>0</th>\n",
       "      <td>01-01-2022 20:00:00</td>\n",
       "      <td>47816.0777</td>\n",
       "      <td>True</td>\n",
       "    </tr>\n",
       "    <tr>\n",
       "      <th>1</th>\n",
       "      <td>02-01-2022 20:00:00</td>\n",
       "      <td>47387.2122</td>\n",
       "      <td>True</td>\n",
       "    </tr>\n",
       "    <tr>\n",
       "      <th>21</th>\n",
       "      <td>22-01-2022 20:00:00</td>\n",
       "      <td>35180.4355</td>\n",
       "      <td>True</td>\n",
       "    </tr>\n",
       "    <tr>\n",
       "      <th>87</th>\n",
       "      <td>29-03-2022 20:00:00</td>\n",
       "      <td>47459.2612</td>\n",
       "      <td>True</td>\n",
       "    </tr>\n",
       "  </tbody>\n",
       "</table>\n",
       "</div>"
      ],
      "text/plain": [
       "                   date       price  anomalo\n",
       "0   01-01-2022 20:00:00  47816.0777     True\n",
       "1   02-01-2022 20:00:00  47387.2122     True\n",
       "21  22-01-2022 20:00:00  35180.4355     True\n",
       "87  29-03-2022 20:00:00  47459.2612     True"
      ]
     },
     "execution_count": 35,
     "metadata": {},
     "output_type": "execute_result"
    }
   ],
   "source": [
    "df[df['anomalo']==True]"
   ]
  },
  {
   "cell_type": "code",
   "execution_count": null,
   "metadata": {},
   "outputs": [],
   "source": []
  },
  {
   "cell_type": "markdown",
   "metadata": {},
   "source": [
    "## Calculating the IQR "
   ]
  },
  {
   "cell_type": "code",
   "execution_count": 36,
   "metadata": {},
   "outputs": [
    {
     "name": "stdout",
     "output_type": "stream",
     "text": [
      "El rango intercuartil es: 4045.9198749999996\n"
     ]
    }
   ],
   "source": [
    "# Calcular el primer y tercer cuartil\n",
    "q1 = df['price'].quantile(0.25)\n",
    "q3 = df['price'].quantile(0.75)\n",
    "\n",
    "# Calcular el rango intercuartil\n",
    "iqr = q3 - q1\n",
    "\n",
    "# Imprimir el rango intercuartil\n",
    "print(\"El rango intercuartil es:\", iqr)"
   ]
  },
  {
   "cell_type": "markdown",
   "metadata": {},
   "source": [
    "## According the IQR obtained the 50% of the values  have a spread of  4045.919$"
   ]
  },
  {
   "cell_type": "code",
   "execution_count": null,
   "metadata": {},
   "outputs": [],
   "source": []
  }
 ],
 "metadata": {
  "kernelspec": {
   "display_name": "Python 3",
   "language": "python",
   "name": "python3"
  },
  "language_info": {
   "codemirror_mode": {
    "name": "ipython",
    "version": 3
   },
   "file_extension": ".py",
   "mimetype": "text/x-python",
   "name": "python",
   "nbconvert_exporter": "python",
   "pygments_lexer": "ipython3",
   "version": "3.8.2"
  }
 },
 "nbformat": 4,
 "nbformat_minor": 4
}
